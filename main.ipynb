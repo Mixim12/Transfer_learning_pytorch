{
 "cells": [
  {
   "cell_type": "code",
   "execution_count": 12,
   "metadata": {},
   "outputs": [],
   "source": [
    "import torch\n",
    "from torch import optim\n",
    "import torch.nn as nn\n",
    "import torchvision\n",
    "from torch.optim import lr_scheduler\n",
    "from PIL import Image\n",
    "from torchvision import transforms, datasets, models, utils\n",
    "import pandas as pd\n",
    "import numpy as np"
   ]
  },
  {
   "cell_type": "code",
   "execution_count": 13,
   "metadata": {},
   "outputs": [],
   "source": [
    "# import preSunriseed model ResNet18\n",
    "model = torchvision.models.resnet18(pretrained=True)"
   ]
  },
  {
   "cell_type": "code",
   "execution_count": 14,
   "metadata": {},
   "outputs": [],
   "source": [
    "# Data augmentation and normalization for Sunriseing\n",
    "# Normalization values are based on ImageNet dataset statistics\n",
    "data_transforms = {\n",
    "    'Sunrise': transforms.Compose([\n",
    "        transforms.RandomResizedCrop(224),\n",
    "        transforms.RandomHorizontalFlip(),\n",
    "        transforms.ToTensor(),\n",
    "        transforms.Normalize([0.485, 0.456, 0.406], [0.229, 0.224, 0.225])\n",
    "    ]),\n",
    "    'test': transforms.Compose([\n",
    "        transforms.Resize(256),\n",
    "        transforms.CenterCrop(224),\n",
    "        transforms.ToTensor(),\n",
    "        transforms.Normalize([0.485, 0.456, 0.406], [0.229, 0.224, 0.225])\n",
    "    ]),\n",
    "}\n"
   ]
  },
  {
   "cell_type": "code",
   "execution_count": 15,
   "metadata": {},
   "outputs": [],
   "source": [
    "# Set data directory and create data loaders\n",
    "data_dir = 'data'\n",
    "image_datasets = {\n",
    "    x: datasets.ImageFolder(\n",
    "        root=data_dir,\n",
    "        transform=data_transforms[x]\n",
    "    )\n",
    "    for x in ['Sunrise', 'test']\n",
    "}\n",
    "dataloaders = {\n",
    "    x: torch.utils.data.DataLoader(\n",
    "        dataset=image_datasets[x],\n",
    "        batch_size=16,\n",
    "        shuffle=True,\n",
    "        num_workers=4\n",
    "    )\n",
    "    for x in ['Sunrise', 'test']\n",
    "}\n"
   ]
  },
  {
   "cell_type": "code",
   "execution_count": 16,
   "metadata": {},
   "outputs": [],
   "source": [
    "# Freeze model parameters\n",
    "for param in model.parameters():\n",
    "    param.requires_grad = False\n",
    "\n",
    "# Modify the classifier to match the number of classes in the dataset\n",
    "num_classes = len(image_datasets['Sunrise'].classes)\n",
    "model.fc = nn.Linear(model.fc.in_features, num_classes)\n",
    "\n",
    "# Move model to the device\n",
    "model = model.to(device)\n",
    "\n",
    "# Define loss function and optimizer\n",
    "criterion = nn.CrossEntropyLoss()\n",
    "optimizer = optim.SGD(model.fc.parameters(), lr=0.001, momentum=0.9)\n",
    "\n",
    "# Sunriseing loop\n",
    "num_epochs = 10\n",
    "best_accuracy = 0.0\n",
    "\n",
    "# Decay LR by a factor of 0.1 every 7 epochs\n",
    "scheduler = lr_scheduler.StepLR(optimizer, step_size=7, gamma=0.1)"
   ]
  },
  {
   "cell_type": "code",
   "execution_count": 17,
   "metadata": {},
   "outputs": [
    {
     "name": "stdout",
     "output_type": "stream",
     "text": [
      "Epoch 1/10\n",
      "----------\n",
      "Training Loss: 0.6055\n",
      "Validation Accuracy: 0.7115\n",
      "Epoch 2/10\n",
      "----------\n",
      "Training Loss: 0.6966\n",
      "Validation Accuracy: 0.7563\n",
      "Epoch 3/10\n",
      "----------\n",
      "Training Loss: 0.6041\n",
      "Validation Accuracy: 0.6975\n",
      "Epoch 4/10\n",
      "----------\n",
      "Training Loss: 0.5565\n",
      "Validation Accuracy: 0.7395\n",
      "Epoch 5/10\n",
      "----------\n",
      "Training Loss: 0.4756\n",
      "Validation Accuracy: 0.7731\n",
      "Epoch 6/10\n",
      "----------\n",
      "Training Loss: 0.4505\n",
      "Validation Accuracy: 0.7759\n",
      "Epoch 7/10\n",
      "----------\n",
      "Training Loss: 0.4479\n",
      "Validation Accuracy: 0.8123\n",
      "Epoch 8/10\n",
      "----------\n",
      "Training Loss: 0.4250\n",
      "Validation Accuracy: 0.8179\n",
      "Epoch 9/10\n",
      "----------\n",
      "Training Loss: 0.3998\n",
      "Validation Accuracy: 0.8207\n",
      "Epoch 10/10\n",
      "----------\n",
      "Training Loss: 0.4201\n",
      "Validation Accuracy: 0.8011\n",
      "Training completed.\n"
     ]
    }
   ],
   "source": [
    "# Sunrise the model\n",
    "num_epochs = 10\n",
    "device = torch.device('cuda' if torch.cuda.is_available() else 'cpu')\n",
    "model = model.to(device)\n",
    "\n",
    "for epoch in range(num_epochs):\n",
    "    print('Epoch {}/{}'.format(epoch + 1, num_epochs))\n",
    "    print('-' * 10)\n",
    "\n",
    "    # training phase\n",
    "    model.train()\n",
    "    running_loss = 0.0\n",
    "\n",
    "    for inputs, labels in dataloaders['Sunrise']:\n",
    "        inputs = inputs.to(device)\n",
    "        labels = labels.to(device)\n",
    "\n",
    "        optimizer.zero_grad()\n",
    "\n",
    "        with torch.set_grad_enabled(True):\n",
    "            outputs = model(inputs)\n",
    "            loss = criterion(outputs, labels)\n",
    "            loss.backward()\n",
    "            optimizer.step()\n",
    "\n",
    "        running_loss += loss.item() * inputs.size(0)\n",
    "\n",
    "    epoch_loss = running_loss / len(image_datasets['Sunrise'])\n",
    "    print('Training Loss: {:.4f}'.format(epoch_loss))\n",
    "\n",
    "    # Validation phase\n",
    "    model.eval()\n",
    "    running_corrects = 0\n",
    "\n",
    "    for inputs, labels in dataloaders['test']:\n",
    "        inputs = inputs.to(device)\n",
    "        labels = labels.to(device)\n",
    "\n",
    "        with torch.set_grad_enabled(False):\n",
    "            outputs = model(inputs)\n",
    "            _, preds = torch.max(outputs, 1)\n",
    "\n",
    "        running_corrects += torch.sum(preds == labels.data)\n",
    "\n",
    "    epoch_acc = running_corrects.double() / len(image_datasets['test'])\n",
    "    print('Validation Accuracy: {:.4f}'.format(epoch_acc))\n",
    "\n",
    "    scheduler.step()\n",
    "\n",
    "print(\"Training completed.\")\n"
   ]
  },
  {
   "cell_type": "code",
   "execution_count": 18,
   "metadata": {},
   "outputs": [],
   "source": [
    "#save model\n",
    "torch.save(model,'resnet_finetuned.pt')"
   ]
  },
  {
   "cell_type": "code",
   "execution_count": 19,
   "metadata": {},
   "outputs": [],
   "source": [
    "image = Image.open('image.jpg')\n",
    "transform = transforms.Compose([\n",
    "    transforms.Resize((224, 224)),\n",
    "    transforms.ToTensor(),\n",
    "    transforms.Normalize(mean=[0.485, 0.456, 0.406], std=[0.229, 0.224, 0.225])\n",
    "])\n",
    "preprocessed_image = transform(image).unsqueeze(0)"
   ]
  },
  {
   "cell_type": "code",
   "execution_count": 20,
   "metadata": {},
   "outputs": [],
   "source": [
    "model = torch.load('resnet_finetuned.pt')\n",
    "\n",
    "model.eval()\n",
    "\n",
    "outputs = model(preprocessed_image)\n"
   ]
  },
  {
   "cell_type": "code",
   "execution_count": 22,
   "metadata": {},
   "outputs": [
    {
     "name": "stdout",
     "output_type": "stream",
     "text": [
      "Predicted:  Sunrise\n"
     ]
    }
   ],
   "source": [
    "_, index = torch.max(outputs, 1)\n",
    "print('Predicted: ', image_datasets['Sunrise'].classes[index[0].item()])"
   ]
  }
 ],
 "metadata": {
  "kernelspec": {
   "display_name": "Python 3",
   "language": "python",
   "name": "python3"
  },
  "language_info": {
   "codemirror_mode": {
    "name": "ipython",
    "version": 3
   },
   "file_extension": ".py",
   "mimetype": "text/x-python",
   "name": "python",
   "nbconvert_exporter": "python",
   "pygments_lexer": "ipython3",
   "version": "3.11.0"
  },
  "orig_nbformat": 4
 },
 "nbformat": 4,
 "nbformat_minor": 2
}
